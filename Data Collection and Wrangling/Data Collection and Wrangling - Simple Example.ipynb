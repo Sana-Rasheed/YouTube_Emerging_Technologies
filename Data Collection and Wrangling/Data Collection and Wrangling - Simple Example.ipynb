{
 "cells": [
  {
   "cell_type": "markdown",
   "id": "4e0a4564",
   "metadata": {},
   "source": [
    "## Data Collection and Wrangling - Simple Example"
   ]
  },
  {
   "cell_type": "markdown",
   "id": "0ee248aa",
   "metadata": {},
   "source": [
    "## 1. Data Collection / Creation"
   ]
  },
  {
   "cell_type": "code",
   "execution_count": null,
   "id": "dd2e81a1",
   "metadata": {},
   "outputs": [],
   "source": [
    "# import libraries\n",
    "import pandas as pd\n",
    "import numpy as np"
   ]
  },
  {
   "cell_type": "code",
   "execution_count": null,
   "id": "baccf62e",
   "metadata": {},
   "outputs": [],
   "source": [
    "# prepare data as list\n",
    "data = {'Name': ['Akbar', 'Ali', 'Elsa', 'Jon', 'Tom', 'Kattie', 'Huda'],\n",
    "        'Age': [13, 14, 15, 14, 14, 18, 19],\n",
    "        'Gender':['M', 'M', 'F', 'M', 'M', 'F', 'F'] ,\n",
    "        'Marks': [90, 76, 59, 'NaN', 89, 'NaN', 'NaN']\n",
    "}"
   ]
  },
  {
   "cell_type": "code",
   "execution_count": null,
   "id": "8bda37b3",
   "metadata": {},
   "outputs": [],
   "source": [
    "# convert into DataFrame\n",
    "df = pd.DataFrame(data)"
   ]
  },
  {
   "cell_type": "code",
   "execution_count": null,
   "id": "a4861b14",
   "metadata": {},
   "outputs": [],
   "source": [
    "df"
   ]
  },
  {
   "cell_type": "markdown",
   "id": "8a1be35c",
   "metadata": {},
   "source": [
    "## 2. Assessment  "
   ]
  },
  {
   "cell_type": "code",
   "execution_count": null,
   "id": "837184bf",
   "metadata": {},
   "outputs": [],
   "source": [
    "# dataframe information\n",
    "df.info()"
   ]
  },
  {
   "cell_type": "code",
   "execution_count": null,
   "id": "c0650385",
   "metadata": {},
   "outputs": [],
   "source": [
    "# data types\n",
    "df.dtypes"
   ]
  },
  {
   "cell_type": "code",
   "execution_count": null,
   "id": "54db5610",
   "metadata": {},
   "outputs": [],
   "source": [
    "# see first few and last few records\n",
    "print(df.head())\n",
    "print('<<<<<<<<<<<<<<<<')\n",
    "print(df.tail())"
   ]
  },
  {
   "cell_type": "code",
   "execution_count": null,
   "id": "ecdb81fc",
   "metadata": {},
   "outputs": [],
   "source": [
    "# extract sample rows\n",
    "df.sample(3)"
   ]
  },
  {
   "cell_type": "markdown",
   "id": "ac9f6cb9",
   "metadata": {},
   "source": [
    "## 3. Cleaning"
   ]
  },
  {
   "cell_type": "code",
   "execution_count": null,
   "id": "6667d08d",
   "metadata": {},
   "outputs": [],
   "source": [
    "# replace NA string to numpy NA value\n",
    "new_df = df.replace('NaN', np.nan)"
   ]
  },
  {
   "cell_type": "code",
   "execution_count": null,
   "id": "e02c6147",
   "metadata": {},
   "outputs": [],
   "source": [
    "# extract dataframe information\n",
    "new_df.info()"
   ]
  },
  {
   "cell_type": "markdown",
   "id": "06ba939d",
   "metadata": {},
   "source": [
    "### Dealing with Missing Values"
   ]
  },
  {
   "cell_type": "code",
   "execution_count": null,
   "id": "e929d0a2",
   "metadata": {},
   "outputs": [],
   "source": [
    "# compute average\n",
    "c = avg = 0\n",
    "for ele in df['Marks']:\n",
    "    if str(ele).isnumeric():\n",
    "        c += 1\n",
    "        avg += ele\n",
    "avg /= c"
   ]
  },
  {
   "cell_type": "code",
   "execution_count": null,
   "id": "1aa51257",
   "metadata": {},
   "outputs": [],
   "source": [
    "# Replace missing values\n",
    "df = df.replace(to_replace=\"NaN\",\n",
    "                value=avg)"
   ]
  },
  {
   "cell_type": "code",
   "execution_count": null,
   "id": "e810a919",
   "metadata": {
    "scrolled": true
   },
   "outputs": [],
   "source": [
    "# Display data\n",
    "df"
   ]
  },
  {
   "cell_type": "code",
   "execution_count": null,
   "id": "948555eb",
   "metadata": {},
   "outputs": [],
   "source": [
    "new_df"
   ]
  },
  {
   "cell_type": "code",
   "execution_count": null,
   "id": "55187bac",
   "metadata": {},
   "outputs": [],
   "source": [
    "new_df.info()"
   ]
  },
  {
   "cell_type": "code",
   "execution_count": null,
   "id": "8c09c219",
   "metadata": {},
   "outputs": [],
   "source": [
    "new_df['Age'].mean()"
   ]
  },
  {
   "cell_type": "code",
   "execution_count": null,
   "id": "2d6de93e",
   "metadata": {},
   "outputs": [],
   "source": [
    "new_df[['Marks','Age']].mean()"
   ]
  },
  {
   "cell_type": "code",
   "execution_count": null,
   "id": "1159be47",
   "metadata": {},
   "outputs": [],
   "source": [
    "# compute mean without skipping NAs\n",
    "new_df.mean(axis=1, skipna = False)"
   ]
  },
  {
   "cell_type": "markdown",
   "id": "8019f82a",
   "metadata": {},
   "source": [
    "### Reshaping the Data"
   ]
  },
  {
   "cell_type": "code",
   "execution_count": null,
   "id": "31d0be68",
   "metadata": {},
   "outputs": [],
   "source": [
    "# reshape / map data\n",
    "df['Gender'] = df['Gender'].map({'M': 0,\n",
    "                 'F': 1}).astype(float)\n"
   ]
  },
  {
   "cell_type": "code",
   "execution_count": null,
   "id": "2eec3500",
   "metadata": {},
   "outputs": [],
   "source": [
    "df.info()"
   ]
  },
  {
   "cell_type": "markdown",
   "id": "4c377c18",
   "metadata": {},
   "source": [
    "### Filtering"
   ]
  },
  {
   "cell_type": "code",
   "execution_count": null,
   "id": "763150ca",
   "metadata": {},
   "outputs": [],
   "source": [
    "# filter rows\n",
    "higher_std = df[df['Marks'] >= 80]"
   ]
  },
  {
   "cell_type": "code",
   "execution_count": null,
   "id": "bde01a08",
   "metadata": {},
   "outputs": [],
   "source": [
    "higher_std"
   ]
  },
  {
   "cell_type": "markdown",
   "id": "f2ee7710",
   "metadata": {},
   "source": [
    "### Delete/Dropping Column"
   ]
  },
  {
   "cell_type": "code",
   "execution_count": null,
   "id": "050931de",
   "metadata": {},
   "outputs": [],
   "source": [
    "# Remove age row\n",
    "new_drp = df.drop(['Gender', 'Age'], axis=1)"
   ]
  },
  {
   "cell_type": "code",
   "execution_count": null,
   "id": "f083508d",
   "metadata": {},
   "outputs": [],
   "source": [
    "#isplay adta\n",
    "new_drp"
   ]
  },
  {
   "cell_type": "code",
   "execution_count": null,
   "id": "04304baf",
   "metadata": {},
   "outputs": [],
   "source": [
    "df"
   ]
  },
  {
   "cell_type": "code",
   "execution_count": null,
   "id": "b9ef1726",
   "metadata": {},
   "outputs": [],
   "source": []
  }
 ],
 "metadata": {
  "kernelspec": {
   "display_name": "Python 3",
   "language": "python",
   "name": "python3"
  },
  "language_info": {
   "codemirror_mode": {
    "name": "ipython",
    "version": 3
   },
   "file_extension": ".py",
   "mimetype": "text/x-python",
   "name": "python",
   "nbconvert_exporter": "python",
   "pygments_lexer": "ipython3",
   "version": "3.8.8"
  }
 },
 "nbformat": 4,
 "nbformat_minor": 5
}
